{
 "cells": [
  {
   "cell_type": "code",
   "execution_count": 1,
   "id": "487d9451",
   "metadata": {
    "_cell_guid": "05bf17b4-cb1c-4c03-a47a-4e0c0af20768",
    "_uuid": "7047658f-a3d2-4313-beac-ec34025fdbb8",
    "collapsed": false,
    "execution": {
     "iopub.execute_input": "2024-07-06T04:56:31.590374Z",
     "iopub.status.busy": "2024-07-06T04:56:31.589923Z",
     "iopub.status.idle": "2024-07-06T04:57:14.180074Z",
     "shell.execute_reply": "2024-07-06T04:57:14.178345Z"
    },
    "jupyter": {
     "outputs_hidden": false
    },
    "papermill": {
     "duration": 42.605926,
     "end_time": "2024-07-06T04:57:14.182967",
     "exception": false,
     "start_time": "2024-07-06T04:56:31.577041",
     "status": "completed"
    },
    "tags": []
   },
   "outputs": [
    {
     "name": "stdout",
     "output_type": "stream",
     "text": [
      "Collecting yfinance\r\n",
      "  Downloading yfinance-0.2.40-py2.py3-none-any.whl.metadata (11 kB)\r\n",
      "Requirement already satisfied: pandas>=1.3.0 in /opt/conda/lib/python3.10/site-packages (from yfinance) (2.2.2)\r\n",
      "Requirement already satisfied: numpy>=1.16.5 in /opt/conda/lib/python3.10/site-packages (from yfinance) (1.26.4)\r\n",
      "Requirement already satisfied: requests>=2.31 in /opt/conda/lib/python3.10/site-packages (from yfinance) (2.32.3)\r\n",
      "Collecting multitasking>=0.0.7 (from yfinance)\r\n",
      "  Downloading multitasking-0.0.11-py3-none-any.whl.metadata (5.5 kB)\r\n",
      "Requirement already satisfied: lxml>=4.9.1 in /opt/conda/lib/python3.10/site-packages (from yfinance) (5.2.2)\r\n",
      "Requirement already satisfied: platformdirs>=2.0.0 in /opt/conda/lib/python3.10/site-packages (from yfinance) (3.11.0)\r\n",
      "Requirement already satisfied: pytz>=2022.5 in /opt/conda/lib/python3.10/site-packages (from yfinance) (2023.3.post1)\r\n",
      "Requirement already satisfied: frozendict>=2.3.4 in /opt/conda/lib/python3.10/site-packages (from yfinance) (2.4.4)\r\n",
      "Collecting peewee>=3.16.2 (from yfinance)\r\n",
      "  Downloading peewee-3.17.5.tar.gz (3.0 MB)\r\n",
      "\u001b[2K     \u001b[90m━━━━━━━━━━━━━━━━━━━━━━━━━━━━━━━━━━━━━━━━\u001b[0m \u001b[32m3.0/3.0 MB\u001b[0m \u001b[31m42.5 MB/s\u001b[0m eta \u001b[36m0:00:00\u001b[0m\r\n",
      "\u001b[?25h  Installing build dependencies ... \u001b[?25l-\b \b\\\b \b|\b \b/\b \b-\b \bdone\r\n",
      "\u001b[?25h  Getting requirements to build wheel ... \u001b[?25l-\b \bdone\r\n",
      "\u001b[?25h  Preparing metadata (pyproject.toml) ... \u001b[?25l-\b \bdone\r\n",
      "\u001b[?25hRequirement already satisfied: beautifulsoup4>=4.11.1 in /opt/conda/lib/python3.10/site-packages (from yfinance) (4.12.2)\r\n",
      "Requirement already satisfied: html5lib>=1.1 in /opt/conda/lib/python3.10/site-packages (from yfinance) (1.1)\r\n",
      "Requirement already satisfied: soupsieve>1.2 in /opt/conda/lib/python3.10/site-packages (from beautifulsoup4>=4.11.1->yfinance) (2.5)\r\n",
      "Requirement already satisfied: six>=1.9 in /opt/conda/lib/python3.10/site-packages (from html5lib>=1.1->yfinance) (1.16.0)\r\n",
      "Requirement already satisfied: webencodings in /opt/conda/lib/python3.10/site-packages (from html5lib>=1.1->yfinance) (0.5.1)\r\n",
      "Requirement already satisfied: python-dateutil>=2.8.2 in /opt/conda/lib/python3.10/site-packages (from pandas>=1.3.0->yfinance) (2.9.0.post0)\r\n",
      "Requirement already satisfied: tzdata>=2022.7 in /opt/conda/lib/python3.10/site-packages (from pandas>=1.3.0->yfinance) (2023.4)\r\n",
      "Requirement already satisfied: charset-normalizer<4,>=2 in /opt/conda/lib/python3.10/site-packages (from requests>=2.31->yfinance) (3.3.2)\r\n",
      "Requirement already satisfied: idna<4,>=2.5 in /opt/conda/lib/python3.10/site-packages (from requests>=2.31->yfinance) (3.6)\r\n",
      "Requirement already satisfied: urllib3<3,>=1.21.1 in /opt/conda/lib/python3.10/site-packages (from requests>=2.31->yfinance) (1.26.18)\r\n",
      "Requirement already satisfied: certifi>=2017.4.17 in /opt/conda/lib/python3.10/site-packages (from requests>=2.31->yfinance) (2024.2.2)\r\n",
      "Downloading yfinance-0.2.40-py2.py3-none-any.whl (73 kB)\r\n",
      "\u001b[2K   \u001b[90m━━━━━━━━━━━━━━━━━━━━━━━━━━━━━━━━━━━━━━━━\u001b[0m \u001b[32m73.5/73.5 kB\u001b[0m \u001b[31m3.5 MB/s\u001b[0m eta \u001b[36m0:00:00\u001b[0m\r\n",
      "\u001b[?25hDownloading multitasking-0.0.11-py3-none-any.whl (8.5 kB)\r\n",
      "Building wheels for collected packages: peewee\r\n",
      "  Building wheel for peewee (pyproject.toml) ... \u001b[?25l-\b \b\\\b \b|\b \b/\b \bdone\r\n",
      "\u001b[?25h  Created wheel for peewee: filename=peewee-3.17.5-cp310-cp310-linux_x86_64.whl size=293379 sha256=ef58018573494924a4aee901ffdf6c547e41881c1972810e1b420b21e8ee538c\r\n",
      "  Stored in directory: /root/.cache/pip/wheels/06/80/9b/98db0d58349a2f5c09f8406789ade4270762f97b7d26f2fa22\r\n",
      "Successfully built peewee\r\n",
      "Installing collected packages: peewee, multitasking, yfinance\r\n",
      "Successfully installed multitasking-0.0.11 peewee-3.17.5 yfinance-0.2.40\r\n"
     ]
    }
   ],
   "source": [
    "!pip install yfinance"
   ]
  },
  {
   "cell_type": "code",
   "execution_count": 2,
   "id": "e6cb6dcb",
   "metadata": {
    "_cell_guid": "e417b52d-d766-49f0-bfc0-c33ea897a151",
    "_uuid": "dc7af4df-444d-449e-bdbc-7b9544f81647",
    "collapsed": false,
    "execution": {
     "iopub.execute_input": "2024-07-06T04:57:14.209678Z",
     "iopub.status.busy": "2024-07-06T04:57:14.209230Z",
     "iopub.status.idle": "2024-07-06T04:57:19.321336Z",
     "shell.execute_reply": "2024-07-06T04:57:19.320110Z"
    },
    "jupyter": {
     "outputs_hidden": false
    },
    "papermill": {
     "duration": 5.128849,
     "end_time": "2024-07-06T04:57:19.324093",
     "exception": false,
     "start_time": "2024-07-06T04:57:14.195244",
     "status": "completed"
    },
    "tags": []
   },
   "outputs": [
    {
     "data": {
      "text/plain": [
       "<torch._C.Generator at 0x7e1b8a56c3d0>"
      ]
     },
     "execution_count": 2,
     "metadata": {},
     "output_type": "execute_result"
    }
   ],
   "source": [
    "import yfinance as yf\n",
    "from datetime import datetime\n",
    "import torch\n",
    "torch.manual_seed(42)"
   ]
  },
  {
   "cell_type": "code",
   "execution_count": 3,
   "id": "f6d7e993",
   "metadata": {
    "_cell_guid": "21dbd44c-c796-48ba-873a-f6d4ab04eee2",
    "_uuid": "671cf8bd-e184-4905-8ad7-a7c38fff5bb7",
    "collapsed": false,
    "execution": {
     "iopub.execute_input": "2024-07-06T04:57:19.351019Z",
     "iopub.status.busy": "2024-07-06T04:57:19.350368Z",
     "iopub.status.idle": "2024-07-06T04:57:19.903009Z",
     "shell.execute_reply": "2024-07-06T04:57:19.901844Z"
    },
    "jupyter": {
     "outputs_hidden": false
    },
    "papermill": {
     "duration": 0.569007,
     "end_time": "2024-07-06T04:57:19.905522",
     "exception": false,
     "start_time": "2024-07-06T04:57:19.336515",
     "status": "completed"
    },
    "tags": []
   },
   "outputs": [
    {
     "data": {
      "text/html": [
       "<div>\n",
       "<style scoped>\n",
       "    .dataframe tbody tr th:only-of-type {\n",
       "        vertical-align: middle;\n",
       "    }\n",
       "\n",
       "    .dataframe tbody tr th {\n",
       "        vertical-align: top;\n",
       "    }\n",
       "\n",
       "    .dataframe thead th {\n",
       "        text-align: right;\n",
       "    }\n",
       "</style>\n",
       "<table border=\"1\" class=\"dataframe\">\n",
       "  <thead>\n",
       "    <tr style=\"text-align: right;\">\n",
       "      <th></th>\n",
       "      <th>Open</th>\n",
       "      <th>High</th>\n",
       "      <th>Low</th>\n",
       "      <th>Close</th>\n",
       "      <th>Volume</th>\n",
       "      <th>Dividends</th>\n",
       "      <th>Stock Splits</th>\n",
       "    </tr>\n",
       "    <tr>\n",
       "      <th>Date</th>\n",
       "      <th></th>\n",
       "      <th></th>\n",
       "      <th></th>\n",
       "      <th></th>\n",
       "      <th></th>\n",
       "      <th></th>\n",
       "      <th></th>\n",
       "    </tr>\n",
       "  </thead>\n",
       "  <tbody>\n",
       "    <tr>\n",
       "      <th>2014-01-02 00:00:00-05:00</th>\n",
       "      <td>17.352860</td>\n",
       "      <td>17.395018</td>\n",
       "      <td>17.238565</td>\n",
       "      <td>17.273228</td>\n",
       "      <td>234684800</td>\n",
       "      <td>0.0</td>\n",
       "      <td>0.0</td>\n",
       "    </tr>\n",
       "    <tr>\n",
       "      <th>2014-01-03 00:00:00-05:00</th>\n",
       "      <td>17.264801</td>\n",
       "      <td>17.291032</td>\n",
       "      <td>16.876634</td>\n",
       "      <td>16.893810</td>\n",
       "      <td>392467600</td>\n",
       "      <td>0.0</td>\n",
       "      <td>0.0</td>\n",
       "    </tr>\n",
       "    <tr>\n",
       "      <th>2014-01-06 00:00:00-05:00</th>\n",
       "      <td>16.783577</td>\n",
       "      <td>17.075559</td>\n",
       "      <td>16.663348</td>\n",
       "      <td>16.985935</td>\n",
       "      <td>412610800</td>\n",
       "      <td>0.0</td>\n",
       "      <td>0.0</td>\n",
       "    </tr>\n",
       "    <tr>\n",
       "      <th>2014-01-07 00:00:00-05:00</th>\n",
       "      <td>16.998112</td>\n",
       "      <td>17.049326</td>\n",
       "      <td>16.798253</td>\n",
       "      <td>16.864456</td>\n",
       "      <td>317209200</td>\n",
       "      <td>0.0</td>\n",
       "      <td>0.0</td>\n",
       "    </tr>\n",
       "    <tr>\n",
       "      <th>2014-01-08 00:00:00-05:00</th>\n",
       "      <td>16.826038</td>\n",
       "      <td>17.036829</td>\n",
       "      <td>16.822293</td>\n",
       "      <td>16.971251</td>\n",
       "      <td>258529600</td>\n",
       "      <td>0.0</td>\n",
       "      <td>0.0</td>\n",
       "    </tr>\n",
       "    <tr>\n",
       "      <th>...</th>\n",
       "      <td>...</td>\n",
       "      <td>...</td>\n",
       "      <td>...</td>\n",
       "      <td>...</td>\n",
       "      <td>...</td>\n",
       "      <td>...</td>\n",
       "      <td>...</td>\n",
       "    </tr>\n",
       "    <tr>\n",
       "      <th>2024-06-28 00:00:00-04:00</th>\n",
       "      <td>215.770004</td>\n",
       "      <td>216.070007</td>\n",
       "      <td>210.300003</td>\n",
       "      <td>210.619995</td>\n",
       "      <td>82542700</td>\n",
       "      <td>0.0</td>\n",
       "      <td>0.0</td>\n",
       "    </tr>\n",
       "    <tr>\n",
       "      <th>2024-07-01 00:00:00-04:00</th>\n",
       "      <td>212.089996</td>\n",
       "      <td>217.509995</td>\n",
       "      <td>211.919998</td>\n",
       "      <td>216.750000</td>\n",
       "      <td>60402900</td>\n",
       "      <td>0.0</td>\n",
       "      <td>0.0</td>\n",
       "    </tr>\n",
       "    <tr>\n",
       "      <th>2024-07-02 00:00:00-04:00</th>\n",
       "      <td>216.149994</td>\n",
       "      <td>220.380005</td>\n",
       "      <td>215.100006</td>\n",
       "      <td>220.270004</td>\n",
       "      <td>58046200</td>\n",
       "      <td>0.0</td>\n",
       "      <td>0.0</td>\n",
       "    </tr>\n",
       "    <tr>\n",
       "      <th>2024-07-03 00:00:00-04:00</th>\n",
       "      <td>220.000000</td>\n",
       "      <td>221.550003</td>\n",
       "      <td>219.029999</td>\n",
       "      <td>221.550003</td>\n",
       "      <td>37369800</td>\n",
       "      <td>0.0</td>\n",
       "      <td>0.0</td>\n",
       "    </tr>\n",
       "    <tr>\n",
       "      <th>2024-07-05 00:00:00-04:00</th>\n",
       "      <td>221.649994</td>\n",
       "      <td>226.449997</td>\n",
       "      <td>221.649994</td>\n",
       "      <td>226.339996</td>\n",
       "      <td>60330900</td>\n",
       "      <td>0.0</td>\n",
       "      <td>0.0</td>\n",
       "    </tr>\n",
       "  </tbody>\n",
       "</table>\n",
       "<p>2644 rows × 7 columns</p>\n",
       "</div>"
      ],
      "text/plain": [
       "                                 Open        High         Low       Close  \\\n",
       "Date                                                                        \n",
       "2014-01-02 00:00:00-05:00   17.352860   17.395018   17.238565   17.273228   \n",
       "2014-01-03 00:00:00-05:00   17.264801   17.291032   16.876634   16.893810   \n",
       "2014-01-06 00:00:00-05:00   16.783577   17.075559   16.663348   16.985935   \n",
       "2014-01-07 00:00:00-05:00   16.998112   17.049326   16.798253   16.864456   \n",
       "2014-01-08 00:00:00-05:00   16.826038   17.036829   16.822293   16.971251   \n",
       "...                               ...         ...         ...         ...   \n",
       "2024-06-28 00:00:00-04:00  215.770004  216.070007  210.300003  210.619995   \n",
       "2024-07-01 00:00:00-04:00  212.089996  217.509995  211.919998  216.750000   \n",
       "2024-07-02 00:00:00-04:00  216.149994  220.380005  215.100006  220.270004   \n",
       "2024-07-03 00:00:00-04:00  220.000000  221.550003  219.029999  221.550003   \n",
       "2024-07-05 00:00:00-04:00  221.649994  226.449997  221.649994  226.339996   \n",
       "\n",
       "                              Volume  Dividends  Stock Splits  \n",
       "Date                                                           \n",
       "2014-01-02 00:00:00-05:00  234684800        0.0           0.0  \n",
       "2014-01-03 00:00:00-05:00  392467600        0.0           0.0  \n",
       "2014-01-06 00:00:00-05:00  412610800        0.0           0.0  \n",
       "2014-01-07 00:00:00-05:00  317209200        0.0           0.0  \n",
       "2014-01-08 00:00:00-05:00  258529600        0.0           0.0  \n",
       "...                              ...        ...           ...  \n",
       "2024-06-28 00:00:00-04:00   82542700        0.0           0.0  \n",
       "2024-07-01 00:00:00-04:00   60402900        0.0           0.0  \n",
       "2024-07-02 00:00:00-04:00   58046200        0.0           0.0  \n",
       "2024-07-03 00:00:00-04:00   37369800        0.0           0.0  \n",
       "2024-07-05 00:00:00-04:00   60330900        0.0           0.0  \n",
       "\n",
       "[2644 rows x 7 columns]"
      ]
     },
     "execution_count": 3,
     "metadata": {},
     "output_type": "execute_result"
    }
   ],
   "source": [
    "ticker_symbol = 'AAPL'\n",
    "ticker_data = yf.Ticker(ticker_symbol)\n",
    "apple_data = ticker_data.history(start='2014-01-01', end=datetime.now())\n",
    "apple_data"
   ]
  },
  {
   "cell_type": "code",
   "execution_count": 4,
   "id": "d929bef4",
   "metadata": {
    "_cell_guid": "eab4fa3e-79ad-463b-911a-5a3b975cf3a9",
    "_uuid": "358c487d-5b3a-4e37-aa92-1e9ac1369ba4",
    "collapsed": false,
    "execution": {
     "iopub.execute_input": "2024-07-06T04:57:19.933663Z",
     "iopub.status.busy": "2024-07-06T04:57:19.932545Z",
     "iopub.status.idle": "2024-07-06T04:57:21.503323Z",
     "shell.execute_reply": "2024-07-06T04:57:21.502147Z"
    },
    "jupyter": {
     "outputs_hidden": false
    },
    "papermill": {
     "duration": 1.588037,
     "end_time": "2024-07-06T04:57:21.506234",
     "exception": false,
     "start_time": "2024-07-06T04:57:19.918197",
     "status": "completed"
    },
    "tags": []
   },
   "outputs": [],
   "source": [
    "import matplotlib.pyplot as plt\n",
    "import seaborn as sns\n",
    "sns.set_style('whitegrid')\n",
    "plt.style.use(\"fivethirtyeight\")\n",
    "%matplotlib inline"
   ]
  },
  {
   "cell_type": "code",
   "execution_count": 5,
   "id": "05d7e0ae",
   "metadata": {
    "_cell_guid": "38c8feba-460b-4cdc-a016-4f9e51b4dc44",
    "_uuid": "9c8a3a24-4eda-4d3e-bea5-99d78cd7e18f",
    "collapsed": false,
    "execution": {
     "iopub.execute_input": "2024-07-06T04:57:21.533698Z",
     "iopub.status.busy": "2024-07-06T04:57:21.533261Z",
     "iopub.status.idle": "2024-07-06T04:57:22.305019Z",
     "shell.execute_reply": "2024-07-06T04:57:22.303619Z"
    },
    "jupyter": {
     "outputs_hidden": false
    },
    "papermill": {
     "duration": 0.788694,
     "end_time": "2024-07-06T04:57:22.307822",
     "exception": false,
     "start_time": "2024-07-06T04:57:21.519128",
     "status": "completed"
    },
    "tags": []
   },
   "outputs": [
    {
     "data": {
      "image/png": "[encoded data removed]",
      "text/plain": [
       "<Figure size 1200x700 with 1 Axes>"
      ]
     },
     "metadata": {},
     "output_type": "display_data"
    }
   ],
   "source": [
    "plt.figure(figsize=(12,7))\n",
    "plt.title(\"Close Price History\")\n",
    "plt.plot(apple_data['Close'])\n",
    "plt.xlabel(\"Date\", fontsize=16)\n",
    "plt.ylabel(\"Close Price USD\", fontsize=16)\n",
    "plt.show()"
   ]
  },
  {
   "cell_type": "code",
   "execution_count": 6,
   "id": "88d94b7d",
   "metadata": {
    "_cell_guid": "92b9036b-b181-45db-adfa-54d8df711e7a",
    "_uuid": "227227a5-cd14-41e2-8135-182c613acf3d",
    "collapsed": false,
    "execution": {
     "iopub.execute_input": "2024-07-06T04:57:22.337221Z",
     "iopub.status.busy": "2024-07-06T04:57:22.336771Z",
     "iopub.status.idle": "2024-07-06T04:57:22.346607Z",
     "shell.execute_reply": "2024-07-06T04:57:22.345507Z"
    },
    "jupyter": {
     "outputs_hidden": false
    },
    "papermill": {
     "duration": 0.027474,
     "end_time": "2024-07-06T04:57:22.349047",
     "exception": false,
     "start_time": "2024-07-06T04:57:22.321573",
     "status": "completed"
    },
    "tags": []
   },
   "outputs": [
    {
     "data": {
      "text/plain": [
       "2512"
      ]
     },
     "execution_count": 6,
     "metadata": {},
     "output_type": "execute_result"
    }
   ],
   "source": [
    "import numpy as np\n",
    "data = apple_data.filter([\"Close\"])\n",
    "dataset = data.values\n",
    "#train split\n",
    "training_data_len = int(np.ceil(len(dataset)* .95))\n",
    "training_data_len"
   ]
  },
  {
   "cell_type": "code",
   "execution_count": 7,
   "id": "8c733189",
   "metadata": {
    "_cell_guid": "40dca5ed-4940-4e59-a556-0ca051a51669",
    "_uuid": "61ac0fad-333e-411d-86d4-6ac9c499c6ae",
    "collapsed": false,
    "execution": {
     "iopub.execute_input": "2024-07-06T04:57:22.378629Z",
     "iopub.status.busy": "2024-07-06T04:57:22.378227Z",
     "iopub.status.idle": "2024-07-06T04:57:22.476178Z",
     "shell.execute_reply": "2024-07-06T04:57:22.474965Z"
    },
    "jupyter": {
     "outputs_hidden": false
    },
    "papermill": {
     "duration": 0.11609,
     "end_time": "2024-07-06T04:57:22.478825",
     "exception": false,
     "start_time": "2024-07-06T04:57:22.362735",
     "status": "completed"
    },
    "tags": []
   },
   "outputs": [
    {
     "data": {
      "text/plain": [
       "tensor([[ 17.2732],\n",
       "        [ 16.8938],\n",
       "        [ 16.9859],\n",
       "        ...,\n",
       "        [220.2700],\n",
       "        [221.5500],\n",
       "        [226.3400]], dtype=torch.float64)"
      ]
     },
     "execution_count": 7,
     "metadata": {},
     "output_type": "execute_result"
    }
   ],
   "source": [
    "import torch \n",
    "dataset = torch.tensor(dataset)\n",
    "dataset"
   ]
  },
  {
   "cell_type": "code",
   "execution_count": 8,
   "id": "8366aa84",
   "metadata": {
    "_cell_guid": "6ae90ddc-4731-4f20-a52b-77fd696d856c",
    "_uuid": "166d59eb-ccca-462a-8d49-942559e8dbc8",
    "collapsed": false,
    "execution": {
     "iopub.execute_input": "2024-07-06T04:57:22.508999Z",
     "iopub.status.busy": "2024-07-06T04:57:22.508562Z",
     "iopub.status.idle": "2024-07-06T04:57:22.535820Z",
     "shell.execute_reply": "2024-07-06T04:57:22.534610Z"
    },
    "jupyter": {
     "outputs_hidden": false
    },
    "papermill": {
     "duration": 0.045779,
     "end_time": "2024-07-06T04:57:22.538651",
     "exception": false,
     "start_time": "2024-07-06T04:57:22.492872",
     "status": "completed"
    },
    "tags": []
   },
   "outputs": [
    {
     "data": {
      "text/plain": [
       "tensor([226.3400], dtype=torch.float64)"
      ]
     },
     "execution_count": 8,
     "metadata": {},
     "output_type": "execute_result"
    }
   ],
   "source": [
    "def min_max_scalar(tensor):\n",
    "    max_val, _ = torch.max(tensor, dim=0)\n",
    "    min_val, _ = torch.min(tensor, dim=0)\n",
    "    range_val = max_val - min_val\n",
    "    range_val[range_val == 0] = 1\n",
    "    \n",
    "    scaled_tensor = (tensor - min_val) / range_val\n",
    "    return scaled_tensor, max_val, min_val\n",
    "scaled_data, max_val, min_val = min_max_scalar(dataset)\n",
    "max_val"
   ]
  },
  {
   "cell_type": "code",
   "execution_count": 9,
   "id": "93369662",
   "metadata": {
    "_cell_guid": "54c2f004-2b1a-4305-b09c-fb55df0ed691",
    "_uuid": "57ef200b-31ba-4daa-b989-683f3e1c9495",
    "collapsed": false,
    "execution": {
     "iopub.execute_input": "2024-07-06T04:57:22.570123Z",
     "iopub.status.busy": "2024-07-06T04:57:22.569565Z",
     "iopub.status.idle": "2024-07-06T04:57:22.582337Z",
     "shell.execute_reply": "2024-07-06T04:57:22.581073Z"
    },
    "jupyter": {
     "outputs_hidden": false
    },
    "papermill": {
     "duration": 0.030964,
     "end_time": "2024-07-06T04:57:22.584815",
     "exception": false,
     "start_time": "2024-07-06T04:57:22.553851",
     "status": "completed"
    },
    "tags": []
   },
   "outputs": [
    {
     "data": {
      "text/plain": [
       "tensor([[0.0079],\n",
       "        [0.0061],\n",
       "        [0.0065],\n",
       "        ...,\n",
       "        [0.8480],\n",
       "        [0.8473],\n",
       "        [0.8422]], dtype=torch.float64)"
      ]
     },
     "execution_count": 9,
     "metadata": {},
     "output_type": "execute_result"
    }
   ],
   "source": [
    "train_data = scaled_data[0:training_data_len, :]\n",
    "train_data"
   ]
  },
  {
   "cell_type": "code",
   "execution_count": 10,
   "id": "7ca64049",
   "metadata": {
    "_cell_guid": "13eced9c-4bef-47e5-a6b4-fd07b3884eac",
    "_uuid": "746e103d-b277-4892-a394-5e8e53c94bd5",
    "collapsed": false,
    "execution": {
     "iopub.execute_input": "2024-07-06T04:57:22.617224Z",
     "iopub.status.busy": "2024-07-06T04:57:22.616336Z",
     "iopub.status.idle": "2024-07-06T04:57:22.695874Z",
     "shell.execute_reply": "2024-07-06T04:57:22.694675Z"
    },
    "jupyter": {
     "outputs_hidden": false
    },
    "papermill": {
     "duration": 0.099731,
     "end_time": "2024-07-06T04:57:22.699231",
     "exception": false,
     "start_time": "2024-07-06T04:57:22.599500",
     "status": "completed"
    },
    "tags": []
   },
   "outputs": [
    {
     "name": "stderr",
     "output_type": "stream",
     "text": [
      "/tmp/ipykernel_18/426960757.py:6: UserWarning: To copy construct from a tensor, it is recommended to use sourceTensor.clone().detach() or sourceTensor.clone().detach().requires_grad_(True), rather than torch.tensor(sourceTensor).\n",
      "  xs.append(torch.tensor(x))\n",
      "/tmp/ipykernel_18/426960757.py:7: UserWarning: To copy construct from a tensor, it is recommended to use sourceTensor.clone().detach() or sourceTensor.clone().detach().requires_grad_(True), rather than torch.tensor(sourceTensor).\n",
      "  ys.append(torch.tensor(y))\n"
     ]
    }
   ],
   "source": [
    "def create_sequences(data, sequence_length):\n",
    "    xs, ys =[],[]\n",
    "    for i in range (len(data) - sequence_length-1):\n",
    "        x = data[i:i+sequence_length]\n",
    "        y = data[sequence_length + i]\n",
    "        xs.append(torch.tensor(x))\n",
    "        ys.append(torch.tensor(y))\n",
    "    return torch.stack(xs), torch.stack(ys)\n",
    "\n",
    "sequence_length = 60 \n",
    "x_train, y_train = create_sequences(train_data, sequence_length)"
   ]
  },
  {
   "cell_type": "code",
   "execution_count": 11,
   "id": "5483bc64",
   "metadata": {
    "_cell_guid": "b36536fe-0b01-4c71-82f8-b7958dde354d",
    "_uuid": "90b2679a-54d8-44e4-a748-fcb5122a1f23",
    "collapsed": false,
    "execution": {
     "iopub.execute_input": "2024-07-06T04:57:22.730952Z",
     "iopub.status.busy": "2024-07-06T04:57:22.730540Z",
     "iopub.status.idle": "2024-07-06T04:57:22.739403Z",
     "shell.execute_reply": "2024-07-06T04:57:22.738094Z"
    },
    "jupyter": {
     "outputs_hidden": false
    },
    "papermill": {
     "duration": 0.027914,
     "end_time": "2024-07-06T04:57:22.741950",
     "exception": false,
     "start_time": "2024-07-06T04:57:22.714036",
     "status": "completed"
    },
    "tags": []
   },
   "outputs": [
    {
     "data": {
      "text/plain": [
       "<torch.utils.data.dataloader.DataLoader at 0x7e1b7b404d00>"
      ]
     },
     "execution_count": 11,
     "metadata": {},
     "output_type": "execute_result"
    }
   ],
   "source": [
    "from torch.utils.data import TensorDataset, DataLoader\n",
    "\n",
    "dataset = TensorDataset(x_train,y_train)\n",
    "\n",
    "batch_size = 32\n",
    "data_loader = DataLoader(dataset, batch_size=batch_size, shuffle=True)\n",
    "data_loader"
   ]
  },
  {
   "cell_type": "code",
   "execution_count": 12,
   "id": "d949e269",
   "metadata": {
    "_cell_guid": "60cc06c0-6598-4a9d-9b37-35bed391f11f",
    "_uuid": "7944fb73-311c-47cb-9704-76a5b019eb6b",
    "collapsed": false,
    "execution": {
     "iopub.execute_input": "2024-07-06T04:57:22.772967Z",
     "iopub.status.busy": "2024-07-06T04:57:22.772560Z",
     "iopub.status.idle": "2024-07-06T04:57:22.781571Z",
     "shell.execute_reply": "2024-07-06T04:57:22.780298Z"
    },
    "jupyter": {
     "outputs_hidden": false
    },
    "papermill": {
     "duration": 0.027314,
     "end_time": "2024-07-06T04:57:22.784010",
     "exception": false,
     "start_time": "2024-07-06T04:57:22.756696",
     "status": "completed"
    },
    "tags": []
   },
   "outputs": [],
   "source": [
    "import torch.nn as nn\n",
    "class LSTM(nn.Module):\n",
    "    def __init__(self):\n",
    "        super(LSTM, self).__init__()\n",
    "        self.lstm1 = nn.LSTM(input_size=1, hidden_size=128, dropout=0.2, batch_first=True)\n",
    "        self.lstm2 = nn.LSTM(128, 64, batch_first=True)\n",
    "        self.dense1 = nn.Linear(64,25)\n",
    "        self.dense2 = nn.Linear(25,1)\n",
    "    \n",
    "    def forward(self, x):\n",
    "        x,_ = self.lstm1(x)\n",
    "        x,_ = self.lstm2(x)\n",
    "        x = x[:,-1,:]\n",
    "        x = self.dense1(x)\n",
    "        x = self.dense2(x)\n",
    "        return x"
   ]
  },
  {
   "cell_type": "code",
   "execution_count": 13,
   "id": "ed2973e0",
   "metadata": {
    "_cell_guid": "304ecf78-588b-4311-a70e-b2c7b2c474a6",
    "_uuid": "cd3b89e6-65db-48cf-99e9-b50dd2667af6",
    "collapsed": false,
    "execution": {
     "iopub.execute_input": "2024-07-06T04:57:22.817911Z",
     "iopub.status.busy": "2024-07-06T04:57:22.817473Z",
     "iopub.status.idle": "2024-07-06T04:57:24.147466Z",
     "shell.execute_reply": "2024-07-06T04:57:24.146293Z"
    },
    "jupyter": {
     "outputs_hidden": false
    },
    "papermill": {
     "duration": 1.350961,
     "end_time": "2024-07-06T04:57:24.150373",
     "exception": false,
     "start_time": "2024-07-06T04:57:22.799412",
     "status": "completed"
    },
    "tags": []
   },
   "outputs": [
    {
     "name": "stderr",
     "output_type": "stream",
     "text": [
      "/opt/conda/lib/python3.10/site-packages/torch/nn/modules/rnn.py:82: UserWarning: dropout option adds dropout after all but last recurrent layer, so non-zero dropout expects num_layers greater than 1, but got dropout=0.2 and num_layers=1\n",
      "  warnings.warn(\"dropout option adds dropout after all but last \"\n"
     ]
    }
   ],
   "source": [
    "model = LSTM()\n",
    "criterion = nn.MSELoss()\n",
    "optimizer = torch.optim.Adam(model.parameters(), lr=0.001)"
   ]
  },
  {
   "cell_type": "code",
   "execution_count": 14,
   "id": "50ba23ef",
   "metadata": {
    "_cell_guid": "199de324-689a-4a9b-9c5b-c0b0104c8e78",
    "_uuid": "d3a21132-132f-443b-9d55-07f74632097c",
    "collapsed": false,
    "execution": {
     "iopub.execute_input": "2024-07-06T04:57:24.181949Z",
     "iopub.status.busy": "2024-07-06T04:57:24.181272Z",
     "iopub.status.idle": "2024-07-06T04:57:24.193782Z",
     "shell.execute_reply": "2024-07-06T04:57:24.192723Z"
    },
    "jupyter": {
     "outputs_hidden": false
    },
    "papermill": {
     "duration": 0.031138,
     "end_time": "2024-07-06T04:57:24.196301",
     "exception": false,
     "start_time": "2024-07-06T04:57:24.165163",
     "status": "completed"
    },
    "tags": []
   },
   "outputs": [
    {
     "data": {
      "text/plain": [
       "tensor([[[0.0079],\n",
       "         [0.0061],\n",
       "         [0.0065],\n",
       "         ...,\n",
       "         [0.0064],\n",
       "         [0.0061],\n",
       "         [0.0060]],\n",
       "\n",
       "        [[0.0061],\n",
       "         [0.0065],\n",
       "         [0.0060],\n",
       "         ...,\n",
       "         [0.0061],\n",
       "         [0.0060],\n",
       "         [0.0060]],\n",
       "\n",
       "        [[0.0065],\n",
       "         [0.0060],\n",
       "         [0.0065],\n",
       "         ...,\n",
       "         [0.0060],\n",
       "         [0.0060],\n",
       "         [0.0067]],\n",
       "\n",
       "        ...,\n",
       "\n",
       "        [[0.7582],\n",
       "         [0.7387],\n",
       "         [0.7315],\n",
       "         ...,\n",
       "         [0.8636],\n",
       "         [0.8610],\n",
       "         [0.8531]],\n",
       "\n",
       "        [[0.7387],\n",
       "         [0.7315],\n",
       "         [0.7327],\n",
       "         ...,\n",
       "         [0.8610],\n",
       "         [0.8531],\n",
       "         [0.8580]],\n",
       "\n",
       "        [[0.7315],\n",
       "         [0.7327],\n",
       "         [0.7352],\n",
       "         ...,\n",
       "         [0.8531],\n",
       "         [0.8580],\n",
       "         [0.8480]]])"
      ]
     },
     "execution_count": 14,
     "metadata": {},
     "output_type": "execute_result"
    }
   ],
   "source": [
    "x_train = x_train.float()\n",
    "y_train = y_train.float()\n",
    "x_train"
   ]
  },
  {
   "cell_type": "code",
   "execution_count": 15,
   "id": "863ef456",
   "metadata": {
    "_cell_guid": "92d56b4a-c6bf-445d-98da-c14aed7b281c",
    "_uuid": "71c9c849-ab45-4353-80d8-09a2340eed05",
    "collapsed": false,
    "execution": {
     "iopub.execute_input": "2024-07-06T04:57:24.228873Z",
     "iopub.status.busy": "2024-07-06T04:57:24.228414Z",
     "iopub.status.idle": "2024-07-06T04:57:27.769198Z",
     "shell.execute_reply": "2024-07-06T04:57:27.766527Z"
    },
    "jupyter": {
     "outputs_hidden": false
    },
    "papermill": {
     "duration": 3.560917,
     "end_time": "2024-07-06T04:57:27.772936",
     "exception": false,
     "start_time": "2024-07-06T04:57:24.212019",
     "status": "completed"
    },
    "tags": []
   },
   "outputs": [
    {
     "name": "stdout",
     "output_type": "stream",
     "text": [
      "Epoch [1/1], Average Loss: 0.0491\n"
     ]
    }
   ],
   "source": [
    "epochs = 1\n",
    "\n",
    "for epoch in range(epochs):\n",
    "    model.train()\n",
    "    total_loss = 0\n",
    "    for x_batch, y_batch in data_loader:\n",
    "        x_batch = x_batch.float()\n",
    "        y_batch = y_batch.float()  \n",
    "        optimizer.zero_grad()\n",
    "        outputs = model(x_batch)\n",
    "        loss = criterion(outputs, y_batch)\n",
    "        loss.backward()\n",
    "        optimizer.step()\n",
    "        total_loss += loss.item()\n",
    "    print(f'Epoch [{epoch+1}/{epochs}], Average Loss: {total_loss / len(data_loader):.4f}')"
   ]
  },
  {
   "cell_type": "code",
   "execution_count": 16,
   "id": "ff360b6a",
   "metadata": {
    "_cell_guid": "33b2a954-675e-4c67-8650-7744c116b127",
    "_uuid": "69647675-9902-4ca3-b27d-22187e110890",
    "collapsed": false,
    "execution": {
     "iopub.execute_input": "2024-07-06T04:57:27.805490Z",
     "iopub.status.busy": "2024-07-06T04:57:27.805080Z",
     "iopub.status.idle": "2024-07-06T04:57:27.812667Z",
     "shell.execute_reply": "2024-07-06T04:57:27.811468Z"
    },
    "jupyter": {
     "outputs_hidden": false
    },
    "papermill": {
     "duration": 0.02624,
     "end_time": "2024-07-06T04:57:27.815057",
     "exception": false,
     "start_time": "2024-07-06T04:57:27.788817",
     "status": "completed"
    },
    "tags": []
   },
   "outputs": [
    {
     "data": {
      "text/plain": [
       "192"
      ]
     },
     "execution_count": 16,
     "metadata": {},
     "output_type": "execute_result"
    }
   ],
   "source": [
    "test_data = scaled_data[training_data_len - sequence_length  :, :]\n",
    "len(test_data)"
   ]
  },
  {
   "cell_type": "code",
   "execution_count": 17,
   "id": "5b50c7c4",
   "metadata": {
    "_cell_guid": "1485a3be-36ca-48fe-8392-9366c7f09dda",
    "_uuid": "057952d8-f38c-4eca-bd37-c3f457891cf7",
    "collapsed": false,
    "execution": {
     "iopub.execute_input": "2024-07-06T04:57:27.848730Z",
     "iopub.status.busy": "2024-07-06T04:57:27.848302Z",
     "iopub.status.idle": "2024-07-06T04:57:27.859619Z",
     "shell.execute_reply": "2024-07-06T04:57:27.858314Z"
    },
    "jupyter": {
     "outputs_hidden": false
    },
    "papermill": {
     "duration": 0.030284,
     "end_time": "2024-07-06T04:57:27.862165",
     "exception": false,
     "start_time": "2024-07-06T04:57:27.831881",
     "status": "completed"
    },
    "tags": []
   },
   "outputs": [
    {
     "name": "stderr",
     "output_type": "stream",
     "text": [
      "/tmp/ipykernel_18/426960757.py:6: UserWarning: To copy construct from a tensor, it is recommended to use sourceTensor.clone().detach() or sourceTensor.clone().detach().requires_grad_(True), rather than torch.tensor(sourceTensor).\n",
      "  xs.append(torch.tensor(x))\n",
      "/tmp/ipykernel_18/426960757.py:7: UserWarning: To copy construct from a tensor, it is recommended to use sourceTensor.clone().detach() or sourceTensor.clone().detach().requires_grad_(True), rather than torch.tensor(sourceTensor).\n",
      "  ys.append(torch.tensor(y))\n"
     ]
    }
   ],
   "source": [
    "x_test, y_test = create_sequences(test_data, sequence_length)\n",
    "\n",
    "x_test = x_test.float()\n",
    "y_test = y_test.float()"
   ]
  },
  {
   "cell_type": "code",
   "execution_count": 18,
   "id": "e36d3226",
   "metadata": {
    "_cell_guid": "2ab7f486-6d4d-4bf7-a744-48fbe3ade2cb",
    "_uuid": "fa70787b-e69d-4382-89e6-9ee5a9cb8a2a",
    "collapsed": false,
    "execution": {
     "iopub.execute_input": "2024-07-06T04:57:27.894607Z",
     "iopub.status.busy": "2024-07-06T04:57:27.894188Z",
     "iopub.status.idle": "2024-07-06T04:57:27.901209Z",
     "shell.execute_reply": "2024-07-06T04:57:27.900141Z"
    },
    "jupyter": {
     "outputs_hidden": false
    },
    "papermill": {
     "duration": 0.026148,
     "end_time": "2024-07-06T04:57:27.903635",
     "exception": false,
     "start_time": "2024-07-06T04:57:27.877487",
     "status": "completed"
    },
    "tags": []
   },
   "outputs": [
    {
     "data": {
      "text/plain": [
       "131"
      ]
     },
     "execution_count": 18,
     "metadata": {},
     "output_type": "execute_result"
    }
   ],
   "source": [
    "len(x_test)"
   ]
  },
  {
   "cell_type": "code",
   "execution_count": 19,
   "id": "36572882",
   "metadata": {
    "_cell_guid": "946e91b8-9eba-492c-8d10-cc239ada3bdb",
    "_uuid": "8647aeca-adea-48aa-857a-c2a7a854471c",
    "collapsed": false,
    "execution": {
     "iopub.execute_input": "2024-07-06T04:57:27.936666Z",
     "iopub.status.busy": "2024-07-06T04:57:27.935929Z",
     "iopub.status.idle": "2024-07-06T04:57:28.001917Z",
     "shell.execute_reply": "2024-07-06T04:57:28.000624Z"
    },
    "jupyter": {
     "outputs_hidden": false
    },
    "papermill": {
     "duration": 0.085513,
     "end_time": "2024-07-06T04:57:28.004675",
     "exception": false,
     "start_time": "2024-07-06T04:57:27.919162",
     "status": "completed"
    },
    "tags": []
   },
   "outputs": [],
   "source": [
    "model.eval()\n",
    "\n",
    "with torch.no_grad():\n",
    "    predictions = model(x_test)"
   ]
  },
  {
   "cell_type": "code",
   "execution_count": 20,
   "id": "a72f7d50",
   "metadata": {
    "_cell_guid": "b5aa67ef-0804-4955-911d-b429dd8a561c",
    "_uuid": "92bc5037-d83b-4a4b-b537-1f884748c742",
    "collapsed": false,
    "execution": {
     "iopub.execute_input": "2024-07-06T04:57:28.038513Z",
     "iopub.status.busy": "2024-07-06T04:57:28.038074Z",
     "iopub.status.idle": "2024-07-06T04:57:28.044134Z",
     "shell.execute_reply": "2024-07-06T04:57:28.042990Z"
    },
    "jupyter": {
     "outputs_hidden": false
    },
    "papermill": {
     "duration": 0.025096,
     "end_time": "2024-07-06T04:57:28.046530",
     "exception": false,
     "start_time": "2024-07-06T04:57:28.021434",
     "status": "completed"
    },
    "tags": []
   },
   "outputs": [],
   "source": [
    "def inverse_min_max_scaler(scaled_tensor, min_val, max_val):\n",
    "    original_tensor = scaled_tensor * (max_val - min_val) + min_val\n",
    "    return original_tensor"
   ]
  },
  {
   "cell_type": "code",
   "execution_count": 21,
   "id": "6bb63d84",
   "metadata": {
    "_cell_guid": "93e58461-b51e-4fde-8eff-3f2928572eb6",
    "_uuid": "bbb263ec-c014-437c-ab3a-9df901fcfc55",
    "collapsed": false,
    "execution": {
     "iopub.execute_input": "2024-07-06T04:57:28.079261Z",
     "iopub.status.busy": "2024-07-06T04:57:28.078826Z",
     "iopub.status.idle": "2024-07-06T04:57:28.090559Z",
     "shell.execute_reply": "2024-07-06T04:57:28.089346Z"
    },
    "jupyter": {
     "outputs_hidden": false
    },
    "papermill": {
     "duration": 0.031104,
     "end_time": "2024-07-06T04:57:28.093029",
     "exception": false,
     "start_time": "2024-07-06T04:57:28.061925",
     "status": "completed"
    },
    "tags": []
   },
   "outputs": [
    {
     "data": {
      "text/plain": [
       "tensor([[203.3474],\n",
       "        [203.3408],\n",
       "        [203.2795],\n",
       "        [203.2068],\n",
       "        [203.0782],\n",
       "        [202.5994],\n",
       "        [201.8919],\n",
       "        [200.9642],\n",
       "        [199.9119],\n",
       "        [199.0375],\n",
       "        [198.2670],\n",
       "        [197.6474],\n",
       "        [197.1144],\n",
       "        [196.6771],\n",
       "        [196.2050],\n",
       "        [195.6956],\n",
       "        [195.4769],\n",
       "        [195.5606],\n",
       "        [195.9288],\n",
       "        [196.5101],\n",
       "        [197.1602],\n",
       "        [197.8121],\n",
       "        [198.3541],\n",
       "        [198.7794],\n",
       "        [198.9398],\n",
       "        [198.7720],\n",
       "        [198.5424],\n",
       "        [198.2216],\n",
       "        [197.9509],\n",
       "        [197.7919],\n",
       "        [197.7074],\n",
       "        [197.6207],\n",
       "        [197.5794],\n",
       "        [197.4820],\n",
       "        [197.2601],\n",
       "        [196.9368],\n",
       "        [196.5532],\n",
       "        [196.0732],\n",
       "        [195.5238],\n",
       "        [194.9940],\n",
       "        [194.5941],\n",
       "        [194.1919],\n",
       "        [193.7483],\n",
       "        [193.3755],\n",
       "        [192.9954],\n",
       "        [192.5993],\n",
       "        [192.1591],\n",
       "        [191.4896],\n",
       "        [190.4788],\n",
       "        [189.2663],\n",
       "        [187.9716],\n",
       "        [186.7627],\n",
       "        [185.7498],\n",
       "        [184.9174],\n",
       "        [184.1261],\n",
       "        [183.4973],\n",
       "        [182.9682],\n",
       "        [182.5805],\n",
       "        [182.4115],\n",
       "        [182.5068],\n",
       "        [182.3847],\n",
       "        [182.2093],\n",
       "        [181.9291],\n",
       "        [181.5419],\n",
       "        [181.2900],\n",
       "        [181.0248],\n",
       "        [180.6975],\n",
       "        [180.2909],\n",
       "        [179.8967],\n",
       "        [179.4802],\n",
       "        [179.1093],\n",
       "        [178.7214],\n",
       "        [178.4061],\n",
       "        [178.0476],\n",
       "        [178.0552],\n",
       "        [178.3382],\n",
       "        [178.5810],\n",
       "        [178.6369],\n",
       "        [178.5153],\n",
       "        [178.2419],\n",
       "        [177.7831],\n",
       "        [177.2776],\n",
       "        [176.8137],\n",
       "        [176.4999],\n",
       "        [176.3302],\n",
       "        [176.2256],\n",
       "        [176.3841],\n",
       "        [176.5215],\n",
       "        [176.6010],\n",
       "        [176.8345],\n",
       "        [177.6660],\n",
       "        [178.7085],\n",
       "        [179.8823],\n",
       "        [181.1012],\n",
       "        [182.3849],\n",
       "        [183.5806],\n",
       "        [184.8368],\n",
       "        [186.1188],\n",
       "        [187.4701],\n",
       "        [188.8017],\n",
       "        [190.0647],\n",
       "        [191.2878],\n",
       "        [192.4918],\n",
       "        [193.5551],\n",
       "        [194.2966],\n",
       "        [194.9775],\n",
       "        [195.5765],\n",
       "        [196.1143],\n",
       "        [196.6392],\n",
       "        [197.1758],\n",
       "        [197.7786],\n",
       "        [198.4038],\n",
       "        [199.0881],\n",
       "        [199.7056],\n",
       "        [200.3780],\n",
       "        [200.8630],\n",
       "        [201.8988],\n",
       "        [203.4354],\n",
       "        [205.2356],\n",
       "        [207.0286],\n",
       "        [208.9380],\n",
       "        [210.6976],\n",
       "        [212.0868],\n",
       "        [213.1129],\n",
       "        [213.9126],\n",
       "        [214.5763],\n",
       "        [215.3118],\n",
       "        [216.0736],\n",
       "        [216.6575],\n",
       "        [217.4031],\n",
       "        [218.3360]], dtype=torch.float64)"
      ]
     },
     "execution_count": 21,
     "metadata": {},
     "output_type": "execute_result"
    }
   ],
   "source": [
    "predictions = inverse_min_max_scaler(predictions, min_val, max_val)\n",
    "predictions"
   ]
  },
  {
   "cell_type": "code",
   "execution_count": 22,
   "id": "46fcc6e9",
   "metadata": {
    "_cell_guid": "87bb1894-270d-4938-9a81-6863f8a2b37c",
    "_uuid": "0af8dbfc-6b57-490e-80f6-90a2d8b8bd71",
    "collapsed": false,
    "execution": {
     "iopub.execute_input": "2024-07-06T04:57:28.126984Z",
     "iopub.status.busy": "2024-07-06T04:57:28.126536Z",
     "iopub.status.idle": "2024-07-06T04:57:28.134987Z",
     "shell.execute_reply": "2024-07-06T04:57:28.133692Z"
    },
    "jupyter": {
     "outputs_hidden": false
    },
    "papermill": {
     "duration": 0.027784,
     "end_time": "2024-07-06T04:57:28.137348",
     "exception": false,
     "start_time": "2024-07-06T04:57:28.109564",
     "status": "completed"
    },
    "tags": []
   },
   "outputs": [
    {
     "data": {
      "text/plain": [
       "tensor([226.3400], dtype=torch.float64)"
      ]
     },
     "execution_count": 22,
     "metadata": {},
     "output_type": "execute_result"
    }
   ],
   "source": [
    "max_val"
   ]
  },
  {
   "cell_type": "code",
   "execution_count": 23,
   "id": "6e07565a",
   "metadata": {
    "_cell_guid": "2ee38e6c-5d77-4bba-8c34-af99e4499a43",
    "_uuid": "6e5f5a16-41a4-415e-9d0a-c3e48017969d",
    "collapsed": false,
    "execution": {
     "iopub.execute_input": "2024-07-06T04:57:28.170847Z",
     "iopub.status.busy": "2024-07-06T04:57:28.170379Z",
     "iopub.status.idle": "2024-07-06T04:57:28.883443Z",
     "shell.execute_reply": "2024-07-06T04:57:28.882166Z"
    },
    "jupyter": {
     "outputs_hidden": false
    },
    "papermill": {
     "duration": 0.73293,
     "end_time": "2024-07-06T04:57:28.886127",
     "exception": false,
     "start_time": "2024-07-06T04:57:28.153197",
     "status": "completed"
    },
    "tags": []
   },
   "outputs": [
    {
     "name": "stderr",
     "output_type": "stream",
     "text": [
      "/tmp/ipykernel_18/3515668171.py:4: SettingWithCopyWarning: \n",
      "A value is trying to be set on a copy of a slice from a DataFrame.\n",
      "Try using .loc[row_indexer,col_indexer] = value instead\n",
      "\n",
      "See the caveats in the documentation: https://pandas.pydata.org/pandas-docs/stable/user_guide/indexing.html#returning-a-view-versus-a-copy\n",
      "  valid['Predictions'] = predictions\n"
     ]
    },
    {
     "data": {
      "image/png": "[encoded data removed]",
      "text/plain": [
       "<Figure size 1600x600 with 1 Axes>"
      ]
     },
     "metadata": {},
     "output_type": "display_data"
    }
   ],
   "source": [
    "# Plot the data\n",
    "train = data[:training_data_len]\n",
    "valid = data[training_data_len + 1:]\n",
    "valid['Predictions'] = predictions\n",
    "# Visualize the data\n",
    "plt.figure(figsize=(16,6))\n",
    "plt.title('Model')\n",
    "plt.xlabel('Date', fontsize=18)\n",
    "plt.ylabel('Close Price USD ($)', fontsize=18)\n",
    "plt.plot(train['Close'])\n",
    "plt.plot(valid[['Close', 'Predictions']])\n",
    "plt.legend(['Train', 'Val', 'Predictions'], loc='lower right')\n",
    "plt.show()"
   ]
  }
 ],
 "metadata": {
  "kaggle": {
   "accelerator": "none",
   "dataSources": [],
   "dockerImageVersionId": 30732,
   "isGpuEnabled": false,
   "isInternetEnabled": true,
   "language": "python",
   "sourceType": "notebook"
  },
  "kernelspec": {
   "display_name": "Python 3",
   "language": "python",
   "name": "python3"
  },
  "language_info": {
   "codemirror_mode": {
    "name": "ipython",
    "version": 3
   },
   "file_extension": ".py",
   "mimetype": "text/x-python",
   "name": "python",
   "nbconvert_exporter": "python",
   "pygments_lexer": "ipython3",
   "version": "3.10.13"
  },
  "papermill": {
   "default_parameters": {},
   "duration": 61.762876,
   "end_time": "2024-07-06T04:57:30.227662",
   "environment_variables": {},
   "exception": null,
   "input_path": "__notebook__.ipynb",
   "output_path": "__notebook__.ipynb",
   "parameters": {},
   "start_time": "2024-07-06T04:56:28.464786",
   "version": "2.5.0"
  }
 },
 "nbformat": 4,
 "nbformat_minor": 5
}
